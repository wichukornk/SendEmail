{
 "cells": [
  {
   "cell_type": "code",
   "execution_count": 1,
   "id": "seventh-turner",
   "metadata": {},
   "outputs": [],
   "source": [
    "import yagmail\n",
    "from string import Template\n",
    "import pandas as pd"
   ]
  },
  {
   "cell_type": "code",
   "execution_count": 2,
   "id": "skilled-importance",
   "metadata": {},
   "outputs": [
    {
     "name": "stdin",
     "output_type": "stream",
     "text": [
      " bestpass2021\n"
     ]
    }
   ],
   "source": [
    "MY_ADDRESS='bestenth.info@gmail.com'\n",
    "PASSWORD=input()\n",
    "yag=yagmail.SMTP(user=MY_ADDRESS, password=PASSWORD)"
   ]
  },
  {
   "cell_type": "code",
   "execution_count": 3,
   "id": "current-livestock",
   "metadata": {},
   "outputs": [
    {
     "name": "stdin",
     "output_type": "stream",
     "text": [
      "Factory name บริษัท โรงสีไฟชัยธนาสินเจริญ จำกัด\n",
      "Email tanasinrice1968@gmail.com\n"
     ]
    }
   ],
   "source": [
    "facName=input(\"Factory name\")\n",
    "email=input(\"Email\")"
   ]
  },
  {
   "cell_type": "code",
   "execution_count": 4,
   "id": "rotary-confidentiality",
   "metadata": {},
   "outputs": [
    {
     "name": "stdout",
     "output_type": "stream",
     "text": [
      "บริษัท โรงสีไฟชัยธนาสินเจริญ จำกัด    tanasinrice1968@gmail.com\n"
     ]
    }
   ],
   "source": [
    "print(facName,\"  \",email)"
   ]
  },
  {
   "cell_type": "code",
   "execution_count": 5,
   "id": "typical-commercial",
   "metadata": {},
   "outputs": [
    {
     "name": "stdout",
     "output_type": "stream",
     "text": [
      "เรียน บริษัท โรงสีไฟชัยธนาสินเจริญ จำกัด\n",
      "\n",
      "ตามที่ทีมที่ปรึกษาได้โทรเรียนเชิญเข้าร่วมโครงการ \"ส่งเสริมการอนุรักษ์พลังงานในโรงงานอุตสาหกรรมขนาดกลางและขนาดเล็ก\" ภายใต้การดูแลของกรมพัฒนาพลังงานทดแทนและอนุรักษ์พลังงาน ไปก่อนหน้านี้ ทางทีมที่ปรึกษาขออนุญาตนำส่งรายละเอียดของโครงการ พร้อมด้วยใบสมัคร  เพื่อให้ทางโรงงานศึกษารายละเอียด และพิจารณาสมัครเข้าร่วมโครงการ\n",
      "\n",
      "หากทางสถานประกอบการมีข้อสงสัย สามารถติดต่อสอบถามได้ที่ วิชุกร คันธินทระ (วิศวกร) 082-8198312\n",
      "\n",
      "จึงเรียนมาเพื่อโปรดทราบ\n",
      "ที่ปรึกษาโครงการส่งเสริมการอนุรักษ์พลังงานในโรงงานอุตสาหกรรมขนาดกลางและขนาดเล็ก\n"
     ]
    }
   ],
   "source": [
    "def read_template(filename):\n",
    "    with open(filename, 'r', encoding='utf-8') as template_file:\n",
    "        template_file_content = template_file.read()\n",
    "    return Template(template_file_content)\n",
    "con=read_template('VE_content.txt')\n",
    "con=con.substitute(facName=facName)\n",
    "print(con)"
   ]
  },
  {
   "cell_type": "code",
   "execution_count": 6,
   "id": "unexpected-russia",
   "metadata": {},
   "outputs": [],
   "source": [
    "sub=\"เชิญเข้าร่วมโครงการส่งเสริมการอนุรักษ์พลังงานในโรงงานอุตสาหกรรมขนาดกลางและขนาดเล็ก\""
   ]
  },
  {
   "cell_type": "code",
   "execution_count": 7,
   "id": "favorite-singing",
   "metadata": {},
   "outputs": [
    {
     "data": {
      "text/plain": [
       "{}"
      ]
     },
     "execution_count": 7,
     "metadata": {},
     "output_type": "execute_result"
    }
   ],
   "source": [
    "yag.send(to=email, subject=sub, contents=[con], attachments=\"VE_invitation.pdf\")"
   ]
  },
  {
   "cell_type": "code",
   "execution_count": null,
   "id": "familiar-intensity",
   "metadata": {},
   "outputs": [],
   "source": []
  }
 ],
 "metadata": {
  "kernelspec": {
   "display_name": "Python 3",
   "language": "python",
   "name": "python3"
  },
  "language_info": {
   "codemirror_mode": {
    "name": "ipython",
    "version": 3
   },
   "file_extension": ".py",
   "mimetype": "text/x-python",
   "name": "python",
   "nbconvert_exporter": "python",
   "pygments_lexer": "ipython3",
   "version": "3.8.7"
  }
 },
 "nbformat": 4,
 "nbformat_minor": 5
}
