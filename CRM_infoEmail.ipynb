{
 "cells": [
  {
   "cell_type": "code",
   "execution_count": 1,
   "metadata": {
    "executionInfo": {
     "elapsed": 2095,
     "status": "ok",
     "timestamp": 1609939643688,
     "user": {
      "displayName": "Wichukorn Kuntintara",
      "photoUrl": "https://lh3.googleusercontent.com/a-/AOh14GiODw4YMtFUlDN4GB7exC9p-szld6dK24uCm3ilxQ=s64",
      "userId": "08761270329044253855"
     },
     "user_tz": -420
    },
    "id": "RnBoE5xn0K43"
   },
   "outputs": [],
   "source": [
    "import yagmail\n",
    "import pandas as pd"
   ]
  },
  {
   "cell_type": "markdown",
   "metadata": {},
   "source": [
    "## Create content"
   ]
  },
  {
   "cell_type": "code",
   "execution_count": 2,
   "metadata": {},
   "outputs": [],
   "source": [
    "sub=\"การคำนวณความร้อนสูญเสียตามวิธี Heat loss\""
   ]
  },
  {
   "cell_type": "code",
   "execution_count": 3,
   "metadata": {
    "executionInfo": {
     "elapsed": 794,
     "status": "ok",
     "timestamp": 1609939652355,
     "user": {
      "displayName": "Wichukorn Kuntintara",
      "photoUrl": "https://lh3.googleusercontent.com/a-/AOh14GiODw4YMtFUlDN4GB7exC9p-szld6dK24uCm3ilxQ=s64",
      "userId": "08761270329044253855"
     },
     "user_tz": -420
    },
    "id": "uGxkebF850ux"
   },
   "outputs": [],
   "source": [
    "begin_con=\"\"\"เรียน ท่านผู้สนใจในการอนุรักษ์พลังงาน\n",
    "\n",
    "\"\"\""
   ]
  },
  {
   "cell_type": "code",
   "execution_count": 14,
   "metadata": {},
   "outputs": [],
   "source": [
    "end_con=\"\"\"\n",
    "ด้วยความเคารพอย่างสูง\n",
    "บริษัท เบสท์เอ็น จำกัด\n",
    "ที่ปรึกษาโครงการพัฒนาและสาธิตการใช้เกณฑ์มาตรฐานประสิทธิภาพการใช้พลังงาน ฯ\n",
    "\n",
    "\n",
    "\"\"\""
   ]
  },
  {
   "cell_type": "code",
   "execution_count": 6,
   "metadata": {},
   "outputs": [],
   "source": [
    "cancel_sub=\"https://docs.google.com/forms/d/e/1FAIpQLSdVUL034BzDnu8fmz-mmPKpRe91bUCKx2o9s7uKGYCl8ecAIQ/viewform?usp=pp_url&entry.1021080322=\""
   ]
  },
  {
   "cell_type": "code",
   "execution_count": 7,
   "metadata": {},
   "outputs": [],
   "source": [
    "body_pic=yagmail.inline(\".png\")"
   ]
  },
  {
   "cell_type": "code",
   "execution_count": 8,
   "metadata": {
    "executionInfo": {
     "elapsed": 1219,
     "status": "ok",
     "timestamp": 1609939655929,
     "user": {
      "displayName": "Wichukorn Kuntintara",
      "photoUrl": "https://lh3.googleusercontent.com/a-/AOh14GiODw4YMtFUlDN4GB7exC9p-szld6dK24uCm3ilxQ=s64",
      "userId": "08761270329044253855"
     },
     "user_tz": -420
    },
    "id": "wKQiPVuns_8Y"
   },
   "outputs": [],
   "source": [
    "MY_ADDRESS='thermal.eff.standard@gmail.com'\n",
    "PASSWORD='BestenThermal'\n",
    "yag=yagmail.SMTP(user=MY_ADDRESS, password=PASSWORD)"
   ]
  },
  {
   "cell_type": "code",
   "execution_count": 28,
   "metadata": {},
   "outputs": [],
   "source": [
    "def sendEmail(emails,sub,cont):\n",
    "    cancel_sub=\"https://docs.google.com/forms/d/e/1FAIpQLSdVUL034BzDnu8fmz-mmPKpRe91bUCKx2o9s7uKGYCl8ecAIQ/viewform?usp=pp_url&entry.1021080322=\"\n",
    "    for email in emails:\n",
    "        try:\n",
    "            content=cont.copy()\n",
    "            cancel_link=cancel_sub+email\n",
    "            cancel_cont='<a href='+cancel_link+'> ยกเลิกการรับความรู้ด้านการอนุรักษ์พลังงาน </a>'\n",
    "            content.append(cancel_cont)\n",
    "            #print(content)\n",
    "            yag.send(to=email, subject=sub, contents=content)\n",
    "            print(email,\" Email sent successfully\")\n",
    "        except:\n",
    "            print(email,\" Error, email was not sent\")"
   ]
  },
  {
   "cell_type": "markdown",
   "metadata": {},
   "source": [
    "## Testing"
   ]
  },
  {
   "cell_type": "code",
   "execution_count": 10,
   "metadata": {
    "id": "FO4c9CqoxVod"
   },
   "outputs": [],
   "source": [
    "emailTest=[\"wichukorn.ku@outlook.com\",\"wichukornkuntintara@gmail.com\"]"
   ]
  },
  {
   "cell_type": "code",
   "execution_count": 11,
   "metadata": {},
   "outputs": [],
   "source": [
    "emails=emailTest"
   ]
  },
  {
   "cell_type": "code",
   "execution_count": 12,
   "metadata": {},
   "outputs": [
    {
     "data": {
      "text/plain": [
       "['wichukorn.ku@outlook.com', 'wichukornkuntintara@gmail.com']"
      ]
     },
     "execution_count": 12,
     "metadata": {},
     "output_type": "execute_result"
    }
   ],
   "source": [
    "emails"
   ]
  },
  {
   "cell_type": "code",
   "execution_count": 29,
   "metadata": {},
   "outputs": [
    {
     "name": "stdout",
     "output_type": "stream",
     "text": [
      "wichukorn.ku@outlook.com  Email sent successfully\n",
      "wichukornkuntintara@gmail.com  Email sent successfully\n"
     ]
    }
   ],
   "source": [
    "sendEmail(emails,sub,[begin_con,body_pic,end_con])"
   ]
  },
  {
   "cell_type": "markdown",
   "metadata": {},
   "source": [
    "## Broardcast"
   ]
  },
  {
   "cell_type": "code",
   "execution_count": 30,
   "metadata": {},
   "outputs": [],
   "source": [
    "df=pd.read_csv(\"DB_PotentialCustomer.csv\")"
   ]
  },
  {
   "cell_type": "code",
   "execution_count": 33,
   "metadata": {},
   "outputs": [],
   "source": [
    "df=df.loc[df['Subscription_status']==\"Sub\",:]"
   ]
  },
  {
   "cell_type": "code",
   "execution_count": 35,
   "metadata": {},
   "outputs": [],
   "source": [
    "emails=df.loc[:,'CoorEmail'].to_list()"
   ]
  },
  {
   "cell_type": "code",
   "execution_count": 36,
   "metadata": {},
   "outputs": [
    {
     "data": {
      "text/plain": [
       "['sarawut.mpower@hotmail.com',\n",
       " 'piriya.paokorkeat@gmail.com',\n",
       " 'sirinet.ub@gmail.com',\n",
       " 'n.kitkasikorn@gmail.com',\n",
       " 'tossa.morakot@gmail.com']"
      ]
     },
     "execution_count": 36,
     "metadata": {},
     "output_type": "execute_result"
    }
   ],
   "source": [
    "emails[:5]"
   ]
  },
  {
   "cell_type": "code",
   "execution_count": null,
   "metadata": {},
   "outputs": [],
   "source": [
    "sendEmail(emails[:5],sub,[begin_con,body_pic,end_con])"
   ]
  }
 ],
 "metadata": {
  "colab": {
   "name": "CRM_apologizeEmail.ipynb",
   "provenance": []
  },
  "kernelspec": {
   "display_name": "Python 3",
   "language": "python",
   "name": "python3"
  },
  "language_info": {
   "codemirror_mode": {
    "name": "ipython",
    "version": 3
   },
   "file_extension": ".py",
   "mimetype": "text/x-python",
   "name": "python",
   "nbconvert_exporter": "python",
   "pygments_lexer": "ipython3",
   "version": "3.8.7"
  }
 },
 "nbformat": 4,
 "nbformat_minor": 4
}
