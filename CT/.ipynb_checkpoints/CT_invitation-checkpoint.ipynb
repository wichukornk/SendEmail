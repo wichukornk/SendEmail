{
 "cells": [
  {
   "cell_type": "markdown",
   "id": "pleased-shipping",
   "metadata": {},
   "source": [
    "Topic: ประชุมรายละเอียดการขึ้นทะเบียน Green Industry กับ โรงงานเขาช่อง\n",
    "\n",
    "Join Zoom Meeting\n",
    "https://us02web.zoom.us/j/82047853737\n",
    "\n",
    "Meeting ID: 820 4785 3737"
   ]
  },
  {
   "cell_type": "code",
   "execution_count": 2,
   "id": "after-penny",
   "metadata": {},
   "outputs": [],
   "source": [
    "import yagmail\n",
    "from string import Template"
   ]
  },
  {
   "cell_type": "code",
   "execution_count": 3,
   "id": "measured-acoustic",
   "metadata": {},
   "outputs": [
    {
     "name": "stdin",
     "output_type": "stream",
     "text": [
      " bestpass2021\n"
     ]
    }
   ],
   "source": [
    "MY_ADDRESS='bestenth.info@gmail.com'\n",
    "PASSWORD=input()\n",
    "yag=yagmail.SMTP(user=MY_ADDRESS, password=PASSWORD)"
   ]
  },
  {
   "cell_type": "code",
   "execution_count": 4,
   "id": "macro-morrison",
   "metadata": {},
   "outputs": [
    {
     "name": "stdin",
     "output_type": "stream",
     "text": [
      "Staff name Apirat\n",
      "Email apirat@khaoshong.com\n"
     ]
    }
   ],
   "source": [
    "staffName=input(\"Staff name\")\n",
    "email=input(\"Email\")"
   ]
  },
  {
   "cell_type": "code",
   "execution_count": 5,
   "id": "junior-control",
   "metadata": {},
   "outputs": [
    {
     "name": "stdout",
     "output_type": "stream",
     "text": [
      "Apirat    apirat@khaoshong.com\n"
     ]
    }
   ],
   "source": [
    "print(staffName,\"  \",email)"
   ]
  },
  {
   "cell_type": "code",
   "execution_count": 8,
   "id": "catholic-hypothesis",
   "metadata": {},
   "outputs": [
    {
     "name": "stdout",
     "output_type": "stream",
     "text": [
      "เรียน Khun Apirat\n",
      "\n",
      "ทางทีมที่ปรึกษาโครงการถ่ายทอดเทคโนโลยีการผลิตที่สะอาดระดับรายสาขา การลดปริมาณน้ำในโรงงานอุตสาหกรรม และส่งเสริมอุตสาหกรรมสีเขียว มีความประสงค์จะขอนัดให้คำปรึกษากับทางโรงงานตามรายละเอียดข้างล่างนี้ครับ\n",
      "\n",
      "Topic: ประชุมรายละเอียดการขึ้นทะเบียน Green Industry กับ โรงงานเขาช่อง\n",
      "\n",
      "Time: วันศุกร์ที่ 4 มิถุนายน 2564 10:00 AM - 11:00 AM\n",
      "\n",
      "Join Zoom Meeting\n",
      "https://us02web.zoom.us/j/82047853737\n",
      "\n",
      "Meeting ID: 820 4785 3737\n",
      "\n",
      "ด้วยความเคารพอย่างสูง\n",
      "ที่ปรึกษาโครงการถ่ายทอดเทคโนโลยีการผลิตที่สะอาดฯ\n"
     ]
    }
   ],
   "source": [
    "def read_template(filename):\n",
    "    with open(filename, 'r', encoding='utf-8') as template_file:\n",
    "        template_file_content = template_file.read()\n",
    "    return Template(template_file_content)\n",
    "con=read_template('CT/invitation.txt')\n",
    "con=con.substitute(staffName=staffName)\n",
    "print(con)"
   ]
  }
 ],
 "metadata": {
  "kernelspec": {
   "display_name": "Python 3",
   "language": "python",
   "name": "python3"
  },
  "language_info": {
   "codemirror_mode": {
    "name": "ipython",
    "version": 3
   },
   "file_extension": ".py",
   "mimetype": "text/x-python",
   "name": "python",
   "nbconvert_exporter": "python",
   "pygments_lexer": "ipython3",
   "version": "3.8.7"
  }
 },
 "nbformat": 4,
 "nbformat_minor": 5
}
