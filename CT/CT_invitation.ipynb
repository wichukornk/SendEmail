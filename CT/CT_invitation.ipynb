{
 "cells": [
  {
   "cell_type": "code",
   "execution_count": 1,
   "id": "explicit-trust",
   "metadata": {},
   "outputs": [],
   "source": [
    "from string import Template\n",
    "import smtplib\n",
    "from email.mime.text import MIMEText\n",
    "from email.mime.multipart import MIMEMultipart\n",
    "from email.mime.base import MIMEBase\n",
    "from email import encoders"
   ]
  },
  {
   "cell_type": "code",
   "execution_count": 18,
   "metadata": {},
   "outputs": [
    {
     "output_type": "execute_result",
     "data": {
      "text/plain": [
       "(235, b'2.7.0 Authentication successful')"
      ]
     },
     "metadata": {},
     "execution_count": 18
    }
   ],
   "source": [
    "PASSWORD=input()\n",
    "server = smtplib.SMTP('smtp.office365.com', 587)\n",
    "server.ehlo()\n",
    "server.starttls()\n",
    "server.login('wichukorn.ku@outlook.com', PASSWORD)"
   ]
  },
  {
   "cell_type": "code",
   "execution_count": 19,
   "id": "miniature-forth",
   "metadata": {},
   "outputs": [],
   "source": [
    "sub=\"ประชุมให้คำปรึกษาการขึ้นทะเบียน Green Industry\""
   ]
  },
  {
   "cell_type": "code",
   "execution_count": 20,
   "id": "satisfactory-senegal",
   "metadata": {},
   "outputs": [
    {
     "output_type": "stream",
     "name": "stdout",
     "text": [
      "thanyarat    thanyarat@khaoshong.com\n\nเรียน Khun thanyarat\n\nทางทีมที่ปรึกษาโครงการถ่ายทอดเทคโนโลยีการผลิตที่สะอาดระดับรายสาขา การลดปริมาณน้ำในโรงงานอุตสาหกรรม และส่งเสริมอุตสาหกรรมสีเขียว มีความประสงค์จะขอนัดให้คำปรึกษากับทางโรงงานตามรายละเอียดข้างล่างนี้ครับ\n\nTopic: ประชุมให้คำปรึกษาการขึ้นทะเบียน Green Industry กับ โรงงานเขาช่อง\n\nTime: วันศุกร์ที่ 4 มิถุนายน 2564 10:00 AM - 11:00 AM\n\nJoin Zoom Meeting\nhttps://us02web.zoom.us/j/82047853737\n\nMeeting ID: 820 4785 3737\n\nด้วยความเคารพอย่างสูง\nวิชุกร คันธินทระ\nที่ปรึกษาโครงการถ่ายทอดเทคโนโลยีการผลิตที่สะอาดฯ\n"
     ]
    }
   ],
   "source": [
    "staffName=input(\"Staff name: \")\n",
    "email=input(\"Email: \")\n",
    "print(staffName,\"  \",email)\n",
    "print()\n",
    "\n",
    "def read_template(filename):\n",
    "    with open(filename, 'r', encoding='utf-8') as template_file:\n",
    "        template_file_content = template_file.read()\n",
    "    return Template(template_file_content)\n",
    "con=read_template('invitation.txt')\n",
    "con=con.substitute(staffName=staffName)\n",
    "print(con)"
   ]
  },
  {
   "cell_type": "code",
   "execution_count": 21,
   "metadata": {},
   "outputs": [
    {
     "output_type": "execute_result",
     "data": {
      "text/plain": [
       "{}"
      ]
     },
     "metadata": {},
     "execution_count": 21
    }
   ],
   "source": [
    "msg = MIMEMultipart()\n",
    "msg['From'] = \"wichukorn.ku@outlook.com\"\n",
    "msg['To'] = email\n",
    "msg['Subject'] = sub\n",
    "msg.attach(MIMEText(con, 'plain'))\n",
    "\n",
    "server.send_message(msg)"
   ]
  }
 ],
 "metadata": {
  "kernelspec": {
   "name": "python387jvsc74a57bd02cf9050ba5b99f8ba894a9485334f2e44d627c798c811b52b7872109ad8712d6",
   "display_name": "Python 3.8.7 64-bit"
  },
  "language_info": {
   "codemirror_mode": {
    "name": "ipython",
    "version": 3
   },
   "file_extension": ".py",
   "mimetype": "text/x-python",
   "name": "python",
   "nbconvert_exporter": "python",
   "pygments_lexer": "ipython3",
   "version": "3.8.7"
  }
 },
 "nbformat": 4,
 "nbformat_minor": 5
}