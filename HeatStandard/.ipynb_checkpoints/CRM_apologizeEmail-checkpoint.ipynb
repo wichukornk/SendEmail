{
 "cells": [
  {
   "cell_type": "code",
   "execution_count": null,
   "metadata": {
    "id": "RnBoE5xn0K43"
   },
   "outputs": [],
   "source": [
    "import yagmail\n",
    "from string import Template\n",
    "import pandas as pd"
   ]
  },
  {
   "cell_type": "code",
   "execution_count": null,
   "metadata": {
    "id": "lOcXEE9Y2v7u"
   },
   "outputs": [],
   "source": [
    "def read_template(filename):\n",
    "    with open(filename, 'r', encoding='utf-8') as template_file:\n",
    "        template_file_content = template_file.read()\n",
    "    return Template(template_file_content)\n",
    "con=read_template('apology_text.txt')\n",
    "print(con.substitute())"
   ]
  },
  {
   "cell_type": "code",
   "execution_count": null,
   "metadata": {
    "id": "uGxkebF850ux"
   },
   "outputs": [],
   "source": [
    "sub=\"ขออภัยสำหรับความเสียหายในการจัดส่งเกียรติบัตร (โครงการพัฒนาและสาธิตการใช้เกณฑ์มาตรฐานประสิทธิภาพการใช้พลังงาน ฯ)\""
   ]
  },
  {
   "cell_type": "code",
   "execution_count": null,
   "metadata": {
    "id": "wKQiPVuns_8Y"
   },
   "outputs": [],
   "source": [
    "MY_ADDRESS='thermal.eff.standard@gmail.com'\n",
    "PASSWORD='BestenThermal'\n",
    "yag=yagmail.SMTP(user=MY_ADDRESS, password=PASSWORD)"
   ]
  },
  {
   "cell_type": "code",
   "execution_count": null,
   "metadata": {
    "colab": {
     "base_uri": "https://localhost:8080/",
     "height": 403
    },
    "id": "h16g5zO7zudh",
    "outputId": "57e340dc-4a8c-4471-97d3-cfb4e535176c"
   },
   "outputs": [],
   "source": [
    "yag.send(to=\"wichukorn.ku@outlook.com\", subject=sub, contents=[con.substitute()], attachments=\"apology_letter.pdf\")"
   ]
  },
  {
   "cell_type": "code",
   "execution_count": null,
   "metadata": {},
   "outputs": [],
   "source": [
    "df=pd.read_csv(\"factoryList.csv\")\n",
    "df=df.dropna(subset=['PostCode'])\n",
    "df.head()"
   ]
  },
  {
   "cell_type": "code",
   "execution_count": null,
   "metadata": {},
   "outputs": [],
   "source": [
    "emails=df['CoorEmail'].tolist()"
   ]
  },
  {
   "cell_type": "code",
   "execution_count": null,
   "metadata": {
    "colab": {
     "base_uri": "https://localhost:8080/"
    },
    "id": "rihZ1S3AyC-Z",
    "outputId": "32f76401-8858-4405-d548-66d968d57d0d"
   },
   "outputs": [],
   "source": [
    "for email in emails:\n",
    "  #print(email)\n",
    "  try:\n",
    "    yag.send(to=email, subject=sub, contents=[con.substitute()], attachments=\"apology_letter.pdf\")\n",
    "    print(\"Email sent successfully\")\n",
    "  except:\n",
    "    print(\"Error, email was not sent\",email)"
   ]
  }
 ],
 "metadata": {
  "colab": {
   "name": "CRM_apologizeEmail.ipynb",
   "provenance": []
  },
  "kernelspec": {
   "display_name": "Python 3",
   "language": "python",
   "name": "python3"
  },
  "language_info": {
   "codemirror_mode": {
    "name": "ipython",
    "version": 3
   },
   "file_extension": ".py",
   "mimetype": "text/x-python",
   "name": "python",
   "nbconvert_exporter": "python",
   "pygments_lexer": "ipython3",
   "version": "3.8.5-final"
  }
 },
 "nbformat": 4,
 "nbformat_minor": 4
}