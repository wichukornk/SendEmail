{
 "cells": [
  {
   "cell_type": "code",
   "execution_count": 2,
   "id": "cellular-installation",
   "metadata": {},
   "outputs": [],
   "source": [
    "import yagmail\n",
    "import pandas as pd"
   ]
  },
  {
   "cell_type": "code",
   "execution_count": 3,
   "id": "consecutive-funeral",
   "metadata": {},
   "outputs": [],
   "source": [
    "sub=\"คู่มือการปรับปรุงประสิทธิภาพการใช้พลังงานในอุปกรณ์หม้อน้ำ\""
   ]
  },
  {
   "cell_type": "code",
   "execution_count": 4,
   "id": "cubic-excess",
   "metadata": {},
   "outputs": [],
   "source": [
    "begin_con=\"\"\"เรียน โรงงานที่เข้าร่วมโครงการพัฒนาและสาธิตการใช้เกณฑ์มาตรฐานประสิทธิภาพการใช้พลังงาน ฯ\n",
    "\n",
    "\"\"\""
   ]
  },
  {
   "cell_type": "code",
   "execution_count": 27,
   "id": "falling-hebrew",
   "metadata": {},
   "outputs": [],
   "source": [
    "#body_pic='<a href=\"https://drive.google.com/file/d/1QNxvjnWb478jHpdUS-QozckWoC0bhQCI/view?usp=sharing\">Link</a>'"
   ]
  },
  {
   "cell_type": "code",
   "execution_count": 29,
   "id": "oriental-mattress",
   "metadata": {},
   "outputs": [],
   "source": [
    "body_pic=yagmail.inline(\"cover_heatTextbook.png\")"
   ]
  },
  {
   "cell_type": "code",
   "execution_count": 6,
   "id": "distinguished-webster",
   "metadata": {},
   "outputs": [],
   "source": [
    "end_con=\"\"\"\n",
    "ด้วยความเคารพอย่างสูง\n",
    "บริษัท เบสท์เอ็น จำกัด\n",
    "ที่ปรึกษาโครงการพัฒนาและสาธิตการใช้เกณฑ์มาตรฐานประสิทธิภาพการใช้พลังงาน ฯ\n",
    "\n",
    "\n",
    "\"\"\""
   ]
  },
  {
   "cell_type": "code",
   "execution_count": 18,
   "id": "infinite-nicaragua",
   "metadata": {},
   "outputs": [],
   "source": [
    "MY_ADDRESS='thermal.eff.standard@gmail.com'\n",
    "PASSWORD='BestenThermal'\n",
    "yag=yagmail.SMTP(user=MY_ADDRESS, password=PASSWORD)"
   ]
  },
  {
   "cell_type": "code",
   "execution_count": 15,
   "id": "ranging-technique",
   "metadata": {},
   "outputs": [],
   "source": [
    "def sendEmail(emails,sub,cont):\n",
    "    cancel_sub=\"https://docs.google.com/forms/d/e/1FAIpQLSdVUL034BzDnu8fmz-mmPKpRe91bUCKx2o9s7uKGYCl8ecAIQ/viewform?usp=pp_url&entry.1021080322=\"\n",
    "    for email in emails:\n",
    "        try:\n",
    "            content=cont.copy()\n",
    "            cancel_link=cancel_sub+email\n",
    "            cancel_cont='<a href='+cancel_link+'> ยกเลิกการรับความรู้ด้านการอนุรักษ์พลังงาน </a>'\n",
    "            content.append(cancel_cont)\n",
    "            #print(content)\n",
    "            yag.send(to=email, subject=sub, contents=content)\n",
    "            #print(email,\" Email sent successfully\")\n",
    "        except:\n",
    "            print(email,\" Error, email was not sent\")"
   ]
  },
  {
   "cell_type": "code",
   "execution_count": 31,
   "id": "collected-extra",
   "metadata": {},
   "outputs": [
    {
     "data": {
      "text/plain": [
       "{}"
      ]
     },
     "execution_count": 31,
     "metadata": {},
     "output_type": "execute_result"
    }
   ],
   "source": [
    "yag.send(to='wichukorn.ku@outlook.com', subject=sub, contents=body_pic)"
   ]
  }
 ],
 "metadata": {
  "kernelspec": {
   "display_name": "Python 3",
   "language": "python",
   "name": "python3"
  },
  "language_info": {
   "codemirror_mode": {
    "name": "ipython",
    "version": 3
   },
   "file_extension": ".py",
   "mimetype": "text/x-python",
   "name": "python",
   "nbconvert_exporter": "python",
   "pygments_lexer": "ipython3",
   "version": "3.8.7"
  }
 },
 "nbformat": 4,
 "nbformat_minor": 5
}
