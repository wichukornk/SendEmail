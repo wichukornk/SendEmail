{
 "cells": [
  {
   "cell_type": "code",
   "execution_count": 33,
   "id": "sapphire-english",
   "metadata": {},
   "outputs": [],
   "source": [
    "import yagmail\n",
    "import pandas as pd"
   ]
  },
  {
   "cell_type": "code",
   "execution_count": 34,
   "id": "complete-apparel",
   "metadata": {},
   "outputs": [],
   "source": [
    "MY_ADDRESS='thermal.eff.standard@gmail.com'\n",
    "PASSWORD='BestenThermal'\n",
    "yag=yagmail.SMTP(user=MY_ADDRESS, password=PASSWORD)"
   ]
  },
  {
   "cell_type": "code",
   "execution_count": 35,
   "id": "dramatic-salmon",
   "metadata": {},
   "outputs": [],
   "source": [
    "sub=\"คู่มือการปรับปรุงประสิทธิภาพการใช้พลังงานในอุปกรณ์หม้อน้ำ\""
   ]
  },
  {
   "cell_type": "code",
   "execution_count": 36,
   "id": "ongoing-chamber",
   "metadata": {},
   "outputs": [],
   "source": [
    "begin_con=\"\"\"เรียน โรงงานอุตสาหกรรมที่เข้าร่วมโครงการ\n",
    "\n",
    "ที่ปรึกษาขอนำส่งคู่มือในการปรับปรุงประสิทธิภาพการใช้พลังงานในอุปกรณ์หม้อน้ำตามลิงค์ที่แนบในอีเมล์ฉบับนี้\n",
    "\n",
    "\"\"\""
   ]
  },
  {
   "cell_type": "code",
   "execution_count": 47,
   "id": "specialized-being",
   "metadata": {},
   "outputs": [],
   "source": [
    "#body_pic='<a href=\"https://drive.google.com/file/d/1QNxvjnWb478jHpdUS-QozckWoC0bhQCI/view?usp=sharing\"><img src=\"cover_heatTextbook.png\"></a>'\n",
    "body_link='<a href=\"https://drive.google.com/file/d/1QNxvjnWb478jHpdUS-QozckWoC0bhQCI/view?usp=sharing\"> ดาวน์โหลดคู่มือ </a>'\n",
    "body_pic=yagmail.inline(\"cover_heatTextbook_mini.png\")"
   ]
  },
  {
   "cell_type": "code",
   "execution_count": 38,
   "id": "interested-damages",
   "metadata": {},
   "outputs": [],
   "source": [
    "end_con=\"\"\"\n",
    "\n",
    "ด้วยความเคารพอย่างสูง\n",
    "บริษัท เบสท์เอ็น จำกัด\n",
    "ที่ปรึกษาโครงการพัฒนาและสาธิตการใช้เกณฑ์มาตรฐานประสิทธิภาพการใช้พลังงาน ฯ\n",
    "\n",
    "\n",
    "\"\"\""
   ]
  },
  {
   "cell_type": "code",
   "execution_count": 55,
   "id": "multiple-aircraft",
   "metadata": {},
   "outputs": [],
   "source": [
    "def sendEmail(emails,sub,cont):\n",
    "    cancel_sub=\"https://docs.google.com/forms/d/e/1FAIpQLSdVUL034BzDnu8fmz-mmPKpRe91bUCKx2o9s7uKGYCl8ecAIQ/viewform?usp=pp_url&entry.1021080322=\"\n",
    "    for email in emails:\n",
    "        try:\n",
    "            content=cont.copy()\n",
    "            cancel_link=cancel_sub+email\n",
    "            cancel_cont='<a href='+cancel_link+'> ยกเลิกการรับความรู้ด้านการอนุรักษ์พลังงาน </a>'\n",
    "            content.append(cancel_cont)\n",
    "            #print(content)\n",
    "            yag.send(to=email, subject=sub, contents=content)\n",
    "            print(email,\" Email sent successfully\")\n",
    "        except:\n",
    "            print(email,\" Error, email was not sent\")"
   ]
  },
  {
   "cell_type": "code",
   "execution_count": 44,
   "id": "great-child",
   "metadata": {},
   "outputs": [
    {
     "data": {
      "text/plain": [
       "{}"
      ]
     },
     "execution_count": 44,
     "metadata": {},
     "output_type": "execute_result"
    }
   ],
   "source": [
    "#yag.send(to='wichukorn.ku@outlook.com', subject=sub, contents=[\"cover_heatTextbook.png\", begin_con, body_pic, body_link, end_con])"
   ]
  },
  {
   "cell_type": "code",
   "execution_count": 50,
   "id": "convertible-scenario",
   "metadata": {},
   "outputs": [],
   "source": [
    "sendEmail(['wichukorn.ku@outlook.com','wichukornkuntintara@gmail.com'],sub,[begin_con, body_pic, body_link, end_con])"
   ]
  },
  {
   "cell_type": "code",
   "execution_count": 42,
   "id": "visible-banana",
   "metadata": {},
   "outputs": [
    {
     "data": {
      "text/html": [
       "<div>\n",
       "<style scoped>\n",
       "    .dataframe tbody tr th:only-of-type {\n",
       "        vertical-align: middle;\n",
       "    }\n",
       "\n",
       "    .dataframe tbody tr th {\n",
       "        vertical-align: top;\n",
       "    }\n",
       "\n",
       "    .dataframe thead th {\n",
       "        text-align: right;\n",
       "    }\n",
       "</style>\n",
       "<table border=\"1\" class=\"dataframe\">\n",
       "  <thead>\n",
       "    <tr style=\"text-align: right;\">\n",
       "      <th></th>\n",
       "      <th>Source</th>\n",
       "      <th>Subscription_status</th>\n",
       "      <th>Factory</th>\n",
       "      <th>CoorName</th>\n",
       "      <th>CoorEmail</th>\n",
       "      <th>Boiler</th>\n",
       "      <th>Chiller</th>\n",
       "      <th>Air_compressor</th>\n",
       "    </tr>\n",
       "  </thead>\n",
       "  <tbody>\n",
       "    <tr>\n",
       "      <th>0</th>\n",
       "      <td>พนักงาน</td>\n",
       "      <td>Sub</td>\n",
       "      <td>บริษัท เบสท์เอ็น</td>\n",
       "      <td>พี่เอ็ม</td>\n",
       "      <td>sarawut.mpower@hotmail.com</td>\n",
       "      <td>1</td>\n",
       "      <td>NaN</td>\n",
       "      <td>NaN</td>\n",
       "    </tr>\n",
       "    <tr>\n",
       "      <th>1</th>\n",
       "      <td>พนักงาน</td>\n",
       "      <td>Sub</td>\n",
       "      <td>บริษัท เบสท์เอ็น</td>\n",
       "      <td>พี่ปอนด์</td>\n",
       "      <td>piriya.paokorkeat@gmail.com</td>\n",
       "      <td>1</td>\n",
       "      <td>NaN</td>\n",
       "      <td>NaN</td>\n",
       "    </tr>\n",
       "    <tr>\n",
       "      <th>2</th>\n",
       "      <td>พนักงาน</td>\n",
       "      <td>Sub</td>\n",
       "      <td>บริษัท เบสท์เอ็น</td>\n",
       "      <td>แพร</td>\n",
       "      <td>sirinet.ub@gmail.com</td>\n",
       "      <td>1</td>\n",
       "      <td>NaN</td>\n",
       "      <td>NaN</td>\n",
       "    </tr>\n",
       "    <tr>\n",
       "      <th>3</th>\n",
       "      <td>พนักงาน</td>\n",
       "      <td>Sub</td>\n",
       "      <td>บริษัท เบสท์เอ็น</td>\n",
       "      <td>พี่เก๋</td>\n",
       "      <td>n.kitkasikorn@gmail.com</td>\n",
       "      <td>1</td>\n",
       "      <td>NaN</td>\n",
       "      <td>NaN</td>\n",
       "    </tr>\n",
       "    <tr>\n",
       "      <th>4</th>\n",
       "      <td>พนักงาน</td>\n",
       "      <td>Sub</td>\n",
       "      <td>บริษัท เบสท์เอ็น</td>\n",
       "      <td>พี่กิ๊ก</td>\n",
       "      <td>tossa.morakot@gmail.com</td>\n",
       "      <td>1</td>\n",
       "      <td>NaN</td>\n",
       "      <td>NaN</td>\n",
       "    </tr>\n",
       "  </tbody>\n",
       "</table>\n",
       "</div>"
      ],
      "text/plain": [
       "    Source Subscription_status           Factory  CoorName  \\\n",
       "0  พนักงาน                 Sub  บริษัท เบสท์เอ็น   พี่เอ็ม   \n",
       "1  พนักงาน                 Sub  บริษัท เบสท์เอ็น  พี่ปอนด์   \n",
       "2  พนักงาน                 Sub  บริษัท เบสท์เอ็น       แพร   \n",
       "3  พนักงาน                 Sub  บริษัท เบสท์เอ็น    พี่เก๋   \n",
       "4  พนักงาน                 Sub  บริษัท เบสท์เอ็น   พี่กิ๊ก   \n",
       "\n",
       "                     CoorEmail  Boiler  Chiller  Air_compressor  \n",
       "0   sarawut.mpower@hotmail.com       1      NaN             NaN  \n",
       "1  piriya.paokorkeat@gmail.com       1      NaN             NaN  \n",
       "2         sirinet.ub@gmail.com       1      NaN             NaN  \n",
       "3      n.kitkasikorn@gmail.com       1      NaN             NaN  \n",
       "4      tossa.morakot@gmail.com       1      NaN             NaN  "
      ]
     },
     "execution_count": 42,
     "metadata": {},
     "output_type": "execute_result"
    }
   ],
   "source": [
    "df=pd.read_csv(\"DB_PotentialCustomer.csv\")\n",
    "df=df.loc[df['Subscription_status']==\"Sub\",:]\n",
    "df.head()"
   ]
  },
  {
   "cell_type": "code",
   "execution_count": 58,
   "id": "flying-transformation",
   "metadata": {},
   "outputs": [
    {
     "name": "stdout",
     "output_type": "stream",
     "text": [
      "chatchaponw@gmail.com  Email sent successfully\n",
      "surachata@betagro.com  Email sent successfully\n",
      "pongpanb@betagro.com  Email sent successfully\n",
      "sanae@yamaha-motor.co.th  Email sent successfully\n",
      "sunti_kanchana@hotmail.com  Email sent successfully\n",
      "sanya_ch@hotmail.com  Email sent successfully\n",
      "electric@inteqc.com  Email sent successfully\n",
      "tothsaphon@teijin-frontier.com  Email sent successfully\n",
      "naranun.pu@gmail.com  Email sent successfully\n",
      "kittichai.boo@greensville.co.th  Email sent successfully\n",
      "manop.chamchui@thaiunion.com  Email sent successfully\n",
      "thawach.peetawattanakun@thaisanmiguel.com  Email sent successfully\n",
      "sumethi@betagro.com  Email sent successfully\n",
      "kitti.t@asianseafoods.co.th  Email sent successfully\n",
      "nakarin-ktis@hotmail.com  Email sent successfully\n",
      "noramon@ams-food.com  Email sent successfully\n",
      "mime4421@gmail.com  Email sent successfully\n",
      "takon@thailuxe.com  Email sent successfully\n",
      "5645icezii@gmail.com  Email sent successfully\n",
      "juckgrich.p@thaibev.com  Email sent successfully\n",
      "pammkit@gmail.com  Email sent successfully\n",
      "thanetsaks@betagro.com  Email sent successfully\n",
      "sayomphoo.ke@thainamthip.co.th  Email sent successfully\n",
      "kongssup@scg.com  Email sent successfully\n",
      "thanawin.jar@cpf.co.th  Email sent successfully\n",
      "r_pitchayot@marugo-rubber.co.th  Email sent successfully\n",
      "pre@songkhlabiomass.co.th  Email sent successfully\n",
      "envswf@gmail.com  Email sent successfully\n",
      "songyot@greenspot.co.th  Email sent successfully\n",
      "engineer.sugarcane@gmail.com  Email sent successfully\n",
      "chawalit_jearanan@ajinomoto.com  Email sent successfully\n",
      "winanusorn@gmail.com  Email sent successfully\n",
      "eng_asiatic@asiatic.co.th  Email sent successfully\n",
      "energy@fpiautoparts.com  Email sent successfully\n",
      "chaowalit.p@dpo.go.th  Email sent successfully\n",
      "umkmitl39@hotmail.com  Email sent successfully\n",
      "dutsadee@ampawacoconutmilk.com  Email sent successfully\n",
      "thepma46@hotmail.com  Email sent successfully\n",
      "songponi@scg.com  Email sent successfully\n",
      "bank190@hotmail.com  Email sent successfully\n",
      "akaradech1974@gmail.com  Email sent successfully\n",
      "piyapoom.p@thaiagroenergy.com  Email sent successfully\n",
      "environment@pppgc.co.th  Email sent successfully\n",
      "apichat.ker@thaisummit.co.th  Email sent successfully\n",
      "thawan23bsi@gmail.com  Email sent successfully\n",
      "kumnuan@thaidairy.co.th  Email sent successfully\n",
      "mee_sittisak@hotmail.com  Email sent successfully\n",
      "jiraporn@unis.co.th  Email sent successfully\n",
      "safetycm2@cmfrozen.com  Email sent successfully\n",
      "chatchai.si@cpf.co.th  Email sent successfully\n",
      "kongpobs@betagro.com  Email sent successfully\n",
      "saravut.n@thaibev.com  Email sent successfully\n",
      "pradit@rscannery.com  Email sent successfully\n",
      "vinai.b@thaiwah.com  Email sent successfully\n",
      "thomakan.jeehill@thaiunion.com  Email sent successfully\n",
      "natthaphong@ichitangroup.com  Email sent successfully\n",
      "Ackarapon.p@premium-energycorp.com  Email sent successfully\n",
      "thongpanang@hotmail.com  Email sent successfully\n",
      "surasakhihi@gmail.com  Email sent successfully\n",
      "chutinun.j@thaiwah.com  Email sent successfully\n",
      "chare.p@pppgc.co.th  Email sent successfully\n",
      "tong.sutima@gmail.com  Email sent successfully\n",
      "thanchum@gmail.com  Email sent successfully\n",
      "pattawee.p@thaibev.com  Email sent successfully\n"
     ]
    }
   ],
   "source": [
    "emails=df.loc[:,'CoorEmail'].to_list()\n",
    "sendEmail(emails[8:],sub,[begin_con, body_pic, body_link, end_con])"
   ]
  }
 ],
 "metadata": {
  "kernelspec": {
   "display_name": "Python 3",
   "language": "python",
   "name": "python3"
  },
  "language_info": {
   "codemirror_mode": {
    "name": "ipython",
    "version": 3
   },
   "file_extension": ".py",
   "mimetype": "text/x-python",
   "name": "python",
   "nbconvert_exporter": "python",
   "pygments_lexer": "ipython3",
   "version": "3.8.7"
  }
 },
 "nbformat": 4,
 "nbformat_minor": 5
}
